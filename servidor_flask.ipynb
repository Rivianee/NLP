{
 "cells": [
  {
   "cell_type": "code",
   "execution_count": 13,
   "id": "1c6453b9-8c27-40fc-9532-564512f505b4",
   "metadata": {},
   "outputs": [
    {
     "name": "stdout",
     "output_type": "stream",
     "text": [
      " * Serving Flask app '__main__'\n",
      " * Debug mode: on\n"
     ]
    },
    {
     "name": "stderr",
     "output_type": "stream",
     "text": [
      "WARNING: This is a development server. Do not use it in a production deployment. Use a production WSGI server instead.\n",
      " * Running on http://127.0.0.1:5000\n",
      "Press CTRL+C to quit\n",
      " * Restarting with watchdog (windowsapi)\n"
     ]
    },
    {
     "ename": "SystemExit",
     "evalue": "1",
     "output_type": "error",
     "traceback": [
      "An exception has occurred, use %tb to see the full traceback.\n",
      "\u001b[1;31mSystemExit\u001b[0m\u001b[1;31m:\u001b[0m 1\n"
     ]
    }
   ],
   "source": [
    "from flask import Flask, request, jsonify\n",
    "import pickle\n",
    "\n",
    "app = Flask(__name__)\n",
    "\n",
    "# Carregar o modelo e o vetorizador\n",
    "with open('L2_model.pkl', 'rb') as model_file:\n",
    "    modelo = pickle.load(model_file)\n",
    "\n",
    "with open('L2_vectorizer.pkl', 'rb') as vectorizer_file:\n",
    "    vectorizer = pickle.load(vectorizer_file)\n",
    "\n",
    "def prever_categoria(texto):\n",
    "    # Vetorizar o texto de entrada\n",
    "    texto_vec = vectorizer.transform([texto])\n",
    "    # Fazer a previsão\n",
    "    categoria = modelo.predict(texto_vec)\n",
    "    return categoria[0]\n",
    "\n",
    "@app.route('/classificar-texto', methods=['POST'])\n",
    "def classificar_texto():\n",
    "    \"\"\"\n",
    "    Endpoint da API para classificar texto\n",
    "    \"\"\"\n",
    "    texto_a_classificar = request.json['texto']\n",
    "    categoria_predita = prever_categoria(texto_a_classificar)\n",
    "    resposta = {\n",
    "        'categoria': categoria_predita\n",
    "    }\n",
    "    return jsonify(resposta), 200\n",
    "\n",
    "if __name__ == '__main__':\n",
    "    app.run(host='127.0.0.1', port=5000, debug=True)"
   ]
  },
  {
   "cell_type": "code",
   "execution_count": 8,
   "id": "27c47bc2-f22c-4f9b-ac41-dce6953dc2ce",
   "metadata": {},
   "outputs": [
    {
     "name": "stdout",
     "output_type": "stream",
     "text": [
      "Erro ao enviar requisição: HTTPConnectionPool(host='127.0.0.1', port=5000): Max retries exceeded with url: /classificar-texto (Caused by NewConnectionError('<urllib3.connection.HTTPConnection object at 0x0000021505CF01D0>: Failed to establish a new connection: [WinError 10061] Nenhuma conexão pôde ser feita porque a máquina de destino as recusou ativamente'))\n"
     ]
    }
   ],
   "source": [
    "import requests\n",
    "\n",
    "url = 'http://127.0.0.1:5000/classificar-texto'\n",
    "dados = {'texto': 'Seu texto aqui'}\n",
    "\n",
    "try:\n",
    "    resposta = requests.post(url, json=dados)\n",
    "    print(resposta.json())\n",
    "except requests.exceptions.RequestException as e:\n",
    "    print(f\"Erro ao enviar requisição: {e}\")"
   ]
  },
  {
   "cell_type": "code",
   "execution_count": null,
   "id": "ed2617da-c292-48e6-bdd7-454880e30930",
   "metadata": {},
   "outputs": [],
   "source": []
  }
 ],
 "metadata": {
  "kernelspec": {
   "display_name": "Python 3 (ipykernel)",
   "language": "python",
   "name": "python3"
  },
  "language_info": {
   "codemirror_mode": {
    "name": "ipython",
    "version": 3
   },
   "file_extension": ".py",
   "mimetype": "text/x-python",
   "name": "python",
   "nbconvert_exporter": "python",
   "pygments_lexer": "ipython3",
   "version": "3.11.7"
  }
 },
 "nbformat": 4,
 "nbformat_minor": 5
}
