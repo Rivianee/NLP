{
  "cells": [
    {
      "cell_type": "markdown",
      "metadata": {
        "id": "qz49cLlQr4jK"
      },
      "source": [
        "## PACOTES"
      ]
    },
    {
      "cell_type": "code",
      "execution_count": null,
      "metadata": {
        "id": "gvYfe-gWmwEb"
      },
      "outputs": [],
      "source": [
        "import pandas as pd\n",
        "from sklearn.model_selection import train_test_split, GridSearchCV\n",
        "from sklearn.feature_extraction.text import TfidfVectorizer, CountVectorizer, HashingVectorizer\n",
        "from sklearn.pipeline import Pipeline\n",
        "from sklearn.linear_model import LogisticRegression\n",
        "from sklearn.metrics import classification_report\n",
        "from sklearn.preprocessing import LabelEncoder\n",
        "import pickle"
      ]
    },
    {
      "cell_type": "markdown",
      "metadata": {
        "id": "zk8DX0fbsGSF"
      },
      "source": [
        "## CARREGAR EXCEL"
      ]
    },
    {
      "cell_type": "code",
      "execution_count": null,
      "metadata": {
        "id": "fEkGVMCYmx0I"
      },
      "outputs": [],
      "source": [
        "# Carregando o conjunto de dados pré-processado\n",
        "df = pd.read_csv('/content/preprocessed2_data_removido.csv')"
      ]
    },
    {
      "cell_type": "markdown",
      "metadata": {
        "id": "I4mjheLJrlTu"
      },
      "source": [
        "## MODELAGEM"
      ]
    },
    {
      "cell_type": "code",
      "execution_count": null,
      "metadata": {
        "colab": {
          "base_uri": "https://localhost:8080/"
        },
        "id": "WKiTof1ylrAQ",
        "outputId": "77400860-1510-4169-a252-7cbc2cb83fe4"
      },
      "outputs": [
        {
          "output_type": "stream",
          "name": "stdout",
          "text": [
            "** Treinando e avaliando TfidfVectorizer L2 com GridSearchCV...\n"
          ]
        },
        {
          "output_type": "stream",
          "name": "stderr",
          "text": [
            "ERROR:asyncio:Task exception was never retrieved\n",
            "future: <Task finished name='Task-1' coro=<Server.serve() done, defined at /usr/local/lib/python3.10/dist-packages/uvicorn/server.py:67> exception=KeyboardInterrupt()>\n",
            "Traceback (most recent call last):\n",
            "  File \"/usr/local/lib/python3.10/dist-packages/IPython/core/interactiveshell.py\", line 3553, in run_code\n",
            "    exec(code_obj, self.user_global_ns, self.user_ns)\n",
            "  File \"<ipython-input-11-c78b2a3fd09a>\", line 41, in <cell line: 41>\n",
            "    run_with_ngrok(app)\n",
            "  File \"<ipython-input-11-c78b2a3fd09a>\", line 38, in run_with_ngrok\n",
            "    asyncio.get_event_loop().run_until_complete(uvicorn.run(app, host='0.0.0.0', port=8000))\n",
            "  File \"/usr/local/lib/python3.10/dist-packages/uvicorn/main.py\", line 575, in run\n",
            "    server.run()\n",
            "  File \"/usr/local/lib/python3.10/dist-packages/uvicorn/server.py\", line 65, in run\n",
            "    return asyncio.run(self.serve(sockets=sockets))\n",
            "  File \"/usr/local/lib/python3.10/dist-packages/nest_asyncio.py\", line 30, in run\n",
            "    return loop.run_until_complete(task)\n",
            "  File \"/usr/local/lib/python3.10/dist-packages/nest_asyncio.py\", line 92, in run_until_complete\n",
            "    self._run_once()\n",
            "  File \"/usr/local/lib/python3.10/dist-packages/nest_asyncio.py\", line 133, in _run_once\n",
            "    handle._run()\n",
            "  File \"/usr/lib/python3.10/asyncio/events.py\", line 80, in _run\n",
            "    self._context.run(self._callback, *self._args)\n",
            "  File \"/usr/lib/python3.10/asyncio/tasks.py\", line 315, in __wakeup\n",
            "    self.__step()\n",
            "  File \"/usr/lib/python3.10/asyncio/tasks.py\", line 232, in __step\n",
            "    result = coro.send(None)\n",
            "  File \"/usr/local/lib/python3.10/dist-packages/uvicorn/server.py\", line 68, in serve\n",
            "    with self.capture_signals():\n",
            "  File \"/usr/lib/python3.10/contextlib.py\", line 142, in __exit__\n",
            "    next(self.gen)\n",
            "  File \"/usr/local/lib/python3.10/dist-packages/uvicorn/server.py\", line 328, in capture_signals\n",
            "    signal.raise_signal(captured_signal)\n",
            "KeyboardInterrupt\n"
          ]
        },
        {
          "output_type": "stream",
          "name": "stdout",
          "text": [
            "Classification Report para TfidfVectorizer L2:\n",
            "              precision    recall  f1-score   support\n",
            "\n",
            "     ciencia       0.94      0.73      0.82       127\n",
            "      comida       0.92      0.65      0.76        92\n",
            "   cotidiano       0.90      0.95      0.92      1638\n",
            "    educacao       0.86      0.86      0.86       236\n",
            "     esporte       0.99      0.98      0.98      1968\n",
            "     mercado       0.93      0.93      0.93      2101\n",
            "       mundo       0.94      0.97      0.95      1728\n",
            "       poder       0.94      0.93      0.93      2222\n",
            "     turismo       0.93      0.75      0.83       189\n",
            "\n",
            "    accuracy                           0.94     10301\n",
            "   macro avg       0.93      0.86      0.89     10301\n",
            "weighted avg       0.94      0.94      0.94     10301\n",
            "\n"
          ]
        }
      ],
      "source": [
        "# Definindo colunas de texto e rótulos\n",
        "text_column = 'text'\n",
        "label_column = 'category'\n",
        "\n",
        "# Separando dados de treino e teste\n",
        "X_treino, X_teste, y_treino, y_teste = train_test_split(\n",
        "  df[text_column], df[label_column], test_size=0.2, random_state=42\n",
        ")\n",
        "\n",
        "# Codificando rótulos categóricos\n",
        "label_encoder = LabelEncoder()\n",
        "y_treino = label_encoder.fit_transform(y_treino)\n",
        "y_teste = label_encoder.transform(y_teste)\n",
        "\n",
        "# Definindo o modelo de Regressão Logística\n",
        "modelo = LogisticRegression()\n",
        "\n",
        "# Grades de hiperparâmetros\n",
        "grades_parametros = {\n",
        "  'C': [0.01, 0.1, 1],\n",
        "  'max_iter': [1000, 2000, 5000],\n",
        "}\n",
        "\n",
        "# Criando pipelines para diferentes representações de texto\n",
        "pipelines = []\n",
        "\n",
        "# 1. TfidfVectorizer com normalização L2\n",
        "pipeline_tfidf_l2 = Pipeline([\n",
        "  ('tfidf', TfidfVectorizer(max_features=10000, norm=\"l2\")),\n",
        "  ('clf', GridSearchCV(modelo, grades_parametros, cv=5, scoring='accuracy')),\n",
        "])\n",
        "pipelines.append(('TfidfVectorizer L2', pipeline_tfidf_l2))\n",
        "\n",
        "# Treinando e avaliando modelos\n",
        "for nome_modelo, pipeline in pipelines:\n",
        "  print(f\"** Treinando e avaliando {nome_modelo} com GridSearchCV...\")\n",
        "\n",
        "# Treinando o pipeline\n",
        "  pipeline.fit(X_treino, y_treino)\n",
        "\n",
        "# Salvando o modelo treinado e o vectorizer\n",
        "  with open(f'{nome_modelo}_model.pkl', 'wb') as model_file:\n",
        "   pickle.dump(pipeline, model_file)\n",
        "\n",
        "  with open(f'{nome_modelo}_vectorizer.pkl', 'wb') as vectorizer_file:\n",
        "   pickle.dump(pipeline.named_steps['tfidf'], vectorizer_file)  # Use 'tfidf' here\n",
        "\n",
        "# Previsão e avaliação no conjunto de teste\n",
        "  y_pred = pipeline.predict(X_teste)\n",
        "  print(f\"Classification Report para {nome_modelo}:\")\n",
        "  print(classification_report(y_teste, y_pred, target_names=label_encoder.classes_))\n",
        "\n",
        "# Salvando o codificador de rótulos\n",
        "with open('label_encoder.pkl', 'wb') as encoder_file:\n",
        "  pickle.dump(label_encoder, encoder_file)"
      ]
    },
    {
      "cell_type": "code",
      "source": [
        "from sklearn.model_selection import train_test_split\n",
        "from sklearn.feature_extraction.text import TfidfVectorizer\n",
        "from sklearn.linear_model import LogisticRegression\n",
        "from sklearn.pipeline import Pipeline\n",
        "from sklearn.metrics import classification_report\n",
        "import pickle\n",
        "\n",
        "# Suponha que você tenha um DataFrame df contendo seus dados\n",
        "\n",
        "# Defina colunas de texto e rótulos\n",
        "text_column = 'text'\n",
        "label_column = 'category'\n",
        "\n",
        "# Filtrar o DataFrame para incluir apenas as categorias selecionadas\n",
        "categorias_selecionadas = ['poder', 'mercado', 'esporte']\n",
        "df_selecionado = df[df[label_column].isin(categorias_selecionadas)]\n",
        "\n",
        "# Separar dados de treino e teste\n",
        "X_treino, X_teste, y_treino, y_teste = train_test_split(\n",
        "    df_selecionado[text_column], df_selecionado[label_column], test_size=0.2, random_state=42\n",
        ")\n",
        "\n",
        "# Vetorização do texto\n",
        "vectorizer = TfidfVectorizer(max_features=10000)\n",
        "X_treino_vec = vectorizer.fit_transform(X_treino)\n",
        "X_teste_vec = vectorizer.transform(X_teste)\n",
        "\n",
        "# Treinamento do modelo de regressão logística\n",
        "modelo = LogisticRegression()\n",
        "modelo.fit(X_treino_vec, y_treino)\n",
        "\n",
        "# Avaliação do modelo\n",
        "y_pred = modelo.predict(X_teste_vec)\n",
        "print(classification_report(y_teste, y_pred))\n",
        "\n",
        "# Salvando o modelo treinado e o vetorizador\n",
        "with open('modelo_selecionado.pkl', 'wb') as model_file:\n",
        "    pickle.dump(modelo, model_file)\n",
        "\n",
        "with open('vetorizador_selecionado.pkl', 'wb') as vectorizer_file:\n",
        "    pickle.dump(vectorizer, vectorizer_file)"
      ],
      "metadata": {
        "colab": {
          "base_uri": "https://localhost:8080/"
        },
        "id": "iSFj_BIfG5fV",
        "outputId": "82f6f810-0413-46d0-927a-96fc3a1ff46d"
      },
      "execution_count": null,
      "outputs": [
        {
          "output_type": "stream",
          "name": "stderr",
          "text": [
            "ERROR:asyncio:Task exception was never retrieved\n",
            "future: <Task finished name='Task-4' coro=<Server.serve() done, defined at /usr/local/lib/python3.10/dist-packages/uvicorn/server.py:67> exception=KeyboardInterrupt()>\n",
            "Traceback (most recent call last):\n",
            "  File \"/usr/local/lib/python3.10/dist-packages/IPython/core/interactiveshell.py\", line 3553, in run_code\n",
            "    exec(code_obj, self.user_global_ns, self.user_ns)\n",
            "  File \"<ipython-input-17-cfcb2d9b31cf>\", line 52, in <cell line: 50>\n",
            "    uvicorn.run(app, host=\"0.0.0.0\", port=8000)\n",
            "  File \"/usr/local/lib/python3.10/dist-packages/uvicorn/main.py\", line 575, in run\n",
            "    server.run()\n",
            "  File \"/usr/local/lib/python3.10/dist-packages/uvicorn/server.py\", line 65, in run\n",
            "    return asyncio.run(self.serve(sockets=sockets))\n",
            "  File \"/usr/local/lib/python3.10/dist-packages/nest_asyncio.py\", line 30, in run\n",
            "    return loop.run_until_complete(task)\n",
            "  File \"/usr/local/lib/python3.10/dist-packages/nest_asyncio.py\", line 92, in run_until_complete\n",
            "    self._run_once()\n",
            "  File \"/usr/local/lib/python3.10/dist-packages/nest_asyncio.py\", line 133, in _run_once\n",
            "    handle._run()\n",
            "  File \"/usr/lib/python3.10/asyncio/events.py\", line 80, in _run\n",
            "    self._context.run(self._callback, *self._args)\n",
            "  File \"/usr/lib/python3.10/asyncio/tasks.py\", line 315, in __wakeup\n",
            "    self.__step()\n",
            "  File \"/usr/lib/python3.10/asyncio/tasks.py\", line 232, in __step\n",
            "    result = coro.send(None)\n",
            "  File \"/usr/local/lib/python3.10/dist-packages/uvicorn/server.py\", line 68, in serve\n",
            "    with self.capture_signals():\n",
            "  File \"/usr/lib/python3.10/contextlib.py\", line 142, in __exit__\n",
            "    next(self.gen)\n",
            "  File \"/usr/local/lib/python3.10/dist-packages/uvicorn/server.py\", line 328, in capture_signals\n",
            "    signal.raise_signal(captured_signal)\n",
            "KeyboardInterrupt\n"
          ]
        },
        {
          "output_type": "stream",
          "name": "stdout",
          "text": [
            "              precision    recall  f1-score   support\n",
            "\n",
            "     esporte       0.99      0.99      0.99      2013\n",
            "     mercado       0.97      0.97      0.97      2099\n",
            "       poder       0.96      0.97      0.97      2161\n",
            "\n",
            "    accuracy                           0.97      6273\n",
            "   macro avg       0.98      0.97      0.97      6273\n",
            "weighted avg       0.97      0.97      0.97      6273\n",
            "\n"
          ]
        }
      ]
    }
  ],
  "metadata": {
    "colab": {
      "provenance": []
    },
    "kernelspec": {
      "display_name": "Python 3",
      "name": "python3"
    },
    "language_info": {
      "name": "python"
    }
  },
  "nbformat": 4,
  "nbformat_minor": 0
}