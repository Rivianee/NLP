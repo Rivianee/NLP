{
  "cells": [
    {
      "cell_type": "markdown",
      "source": [
        " ## INSTALAÇÃO DE PACOTES E BIBLIOTECAS"
      ],
      "metadata": {
        "id": "SVPv73EqbSu9"
      }
    },
    {
      "cell_type": "code",
      "execution_count": null,
      "metadata": {
        "id": "6G3_1jGUvwDI"
      },
      "outputs": [],
      "source": [
        "import pandas as pd\n",
        "import matplotlib.pyplot as plt\n",
        "from wordcloud import WordCloud\n",
        "from collections import Counter\n",
        "import spacy\n",
        "import matplotlib.pyplot as plt\n",
        "import seaborn as sns\n",
        "import nltk\n",
        "import numpy as np\n",
        "import re\n",
        "from nltk.corpus import stopwords\n",
        "from nltk.stem import SnowballStemme\n",
        "from sklearn.feature_extraction.text import TfidfVectorizer\n",
        "import string\n",
        "from nltk.corpus import stopwords\n",
        "from nltk.stem import SnowballStemmer\n",
        "from nltk.stem.wordnet import WordNetLemmatizer\n",
        "import unicodedata"
      ]
    },
    {
      "cell_type": "code",
      "source": [
        "# Download NLTK stopwords if needed (assuming Portuguese)\n",
        "nltk.download('stopwords')\n",
        "stop_words = set(stopwords.words('portuguese'))"
      ],
      "metadata": {
        "colab": {
          "base_uri": "https://localhost:8080/"
        },
        "id": "WiWYvWjk8_P1",
        "outputId": "9fa51e86-dae5-42bc-aaf6-1c0751ab12ae"
      },
      "execution_count": null,
      "outputs": [
        {
          "output_type": "stream",
          "name": "stderr",
          "text": [
            "[nltk_data] Downloading package stopwords to /root/nltk_data...\n",
            "[nltk_data]   Package stopwords is already up-to-date!\n"
          ]
        }
      ]
    },
    {
      "cell_type": "code",
      "source": [
        "import nltk\n",
        "nltk.download('wordnet')"
      ],
      "metadata": {
        "colab": {
          "base_uri": "https://localhost:8080/"
        },
        "id": "DDkCNtj0lWYG",
        "outputId": "709f6d7d-e19f-4e93-c8d5-31fd1644436b"
      },
      "execution_count": null,
      "outputs": [
        {
          "output_type": "stream",
          "name": "stderr",
          "text": [
            "[nltk_data] Downloading package wordnet to /root/nltk_data...\n"
          ]
        },
        {
          "output_type": "execute_result",
          "data": {
            "text/plain": [
              "True"
            ]
          },
          "metadata": {},
          "execution_count": 10
        }
      ]
    },
    {
      "cell_type": "code",
      "source": [
        "!pip install -U spacy\n",
        "!python -m spacy download pt_core_news_sm"
      ],
      "metadata": {
        "colab": {
          "base_uri": "https://localhost:8080/"
        },
        "id": "BZx2YZg02AKa",
        "outputId": "2f138f5b-3a65-4441-c0b8-bbbf850011a9"
      },
      "execution_count": null,
      "outputs": [
        {
          "output_type": "stream",
          "name": "stdout",
          "text": [
            "Requirement already satisfied: spacy in /usr/local/lib/python3.10/dist-packages (3.7.4)\n",
            "Requirement already satisfied: spacy-legacy<3.1.0,>=3.0.11 in /usr/local/lib/python3.10/dist-packages (from spacy) (3.0.12)\n",
            "Requirement already satisfied: spacy-loggers<2.0.0,>=1.0.0 in /usr/local/lib/python3.10/dist-packages (from spacy) (1.0.5)\n",
            "Requirement already satisfied: murmurhash<1.1.0,>=0.28.0 in /usr/local/lib/python3.10/dist-packages (from spacy) (1.0.10)\n",
            "Requirement already satisfied: cymem<2.1.0,>=2.0.2 in /usr/local/lib/python3.10/dist-packages (from spacy) (2.0.8)\n",
            "Requirement already satisfied: preshed<3.1.0,>=3.0.2 in /usr/local/lib/python3.10/dist-packages (from spacy) (3.0.9)\n",
            "Requirement already satisfied: thinc<8.3.0,>=8.2.2 in /usr/local/lib/python3.10/dist-packages (from spacy) (8.2.3)\n",
            "Requirement already satisfied: wasabi<1.2.0,>=0.9.1 in /usr/local/lib/python3.10/dist-packages (from spacy) (1.1.2)\n",
            "Requirement already satisfied: srsly<3.0.0,>=2.4.3 in /usr/local/lib/python3.10/dist-packages (from spacy) (2.4.8)\n",
            "Requirement already satisfied: catalogue<2.1.0,>=2.0.6 in /usr/local/lib/python3.10/dist-packages (from spacy) (2.0.10)\n",
            "Requirement already satisfied: weasel<0.4.0,>=0.1.0 in /usr/local/lib/python3.10/dist-packages (from spacy) (0.3.4)\n",
            "Requirement already satisfied: typer<0.10.0,>=0.3.0 in /usr/local/lib/python3.10/dist-packages (from spacy) (0.9.4)\n",
            "Requirement already satisfied: smart-open<7.0.0,>=5.2.1 in /usr/local/lib/python3.10/dist-packages (from spacy) (6.4.0)\n",
            "Requirement already satisfied: tqdm<5.0.0,>=4.38.0 in /usr/local/lib/python3.10/dist-packages (from spacy) (4.66.4)\n",
            "Requirement already satisfied: requests<3.0.0,>=2.13.0 in /usr/local/lib/python3.10/dist-packages (from spacy) (2.31.0)\n",
            "Requirement already satisfied: pydantic!=1.8,!=1.8.1,<3.0.0,>=1.7.4 in /usr/local/lib/python3.10/dist-packages (from spacy) (2.7.1)\n",
            "Requirement already satisfied: jinja2 in /usr/local/lib/python3.10/dist-packages (from spacy) (3.1.4)\n",
            "Requirement already satisfied: setuptools in /usr/local/lib/python3.10/dist-packages (from spacy) (67.7.2)\n",
            "Requirement already satisfied: packaging>=20.0 in /usr/local/lib/python3.10/dist-packages (from spacy) (24.0)\n",
            "Requirement already satisfied: langcodes<4.0.0,>=3.2.0 in /usr/local/lib/python3.10/dist-packages (from spacy) (3.4.0)\n",
            "Requirement already satisfied: numpy>=1.19.0 in /usr/local/lib/python3.10/dist-packages (from spacy) (1.25.2)\n",
            "Requirement already satisfied: language-data>=1.2 in /usr/local/lib/python3.10/dist-packages (from langcodes<4.0.0,>=3.2.0->spacy) (1.2.0)\n",
            "Requirement already satisfied: annotated-types>=0.4.0 in /usr/local/lib/python3.10/dist-packages (from pydantic!=1.8,!=1.8.1,<3.0.0,>=1.7.4->spacy) (0.7.0)\n",
            "Requirement already satisfied: pydantic-core==2.18.2 in /usr/local/lib/python3.10/dist-packages (from pydantic!=1.8,!=1.8.1,<3.0.0,>=1.7.4->spacy) (2.18.2)\n",
            "Requirement already satisfied: typing-extensions>=4.6.1 in /usr/local/lib/python3.10/dist-packages (from pydantic!=1.8,!=1.8.1,<3.0.0,>=1.7.4->spacy) (4.11.0)\n",
            "Requirement already satisfied: charset-normalizer<4,>=2 in /usr/local/lib/python3.10/dist-packages (from requests<3.0.0,>=2.13.0->spacy) (3.3.2)\n",
            "Requirement already satisfied: idna<4,>=2.5 in /usr/local/lib/python3.10/dist-packages (from requests<3.0.0,>=2.13.0->spacy) (3.7)\n",
            "Requirement already satisfied: urllib3<3,>=1.21.1 in /usr/local/lib/python3.10/dist-packages (from requests<3.0.0,>=2.13.0->spacy) (2.0.7)\n",
            "Requirement already satisfied: certifi>=2017.4.17 in /usr/local/lib/python3.10/dist-packages (from requests<3.0.0,>=2.13.0->spacy) (2024.2.2)\n",
            "Requirement already satisfied: blis<0.8.0,>=0.7.8 in /usr/local/lib/python3.10/dist-packages (from thinc<8.3.0,>=8.2.2->spacy) (0.7.11)\n",
            "Requirement already satisfied: confection<1.0.0,>=0.0.1 in /usr/local/lib/python3.10/dist-packages (from thinc<8.3.0,>=8.2.2->spacy) (0.1.4)\n",
            "Requirement already satisfied: click<9.0.0,>=7.1.1 in /usr/local/lib/python3.10/dist-packages (from typer<0.10.0,>=0.3.0->spacy) (8.1.7)\n",
            "Requirement already satisfied: cloudpathlib<0.17.0,>=0.7.0 in /usr/local/lib/python3.10/dist-packages (from weasel<0.4.0,>=0.1.0->spacy) (0.16.0)\n",
            "Requirement already satisfied: MarkupSafe>=2.0 in /usr/local/lib/python3.10/dist-packages (from jinja2->spacy) (2.1.5)\n",
            "Requirement already satisfied: marisa-trie>=0.7.7 in /usr/local/lib/python3.10/dist-packages (from language-data>=1.2->langcodes<4.0.0,>=3.2.0->spacy) (1.1.1)\n",
            "Collecting pt-core-news-sm==3.7.0\n",
            "  Downloading https://github.com/explosion/spacy-models/releases/download/pt_core_news_sm-3.7.0/pt_core_news_sm-3.7.0-py3-none-any.whl (13.0 MB)\n",
            "\u001b[2K     \u001b[90m━━━━━━━━━━━━━━━━━━━━━━━━━━━━━━━━━━━━━━━━\u001b[0m \u001b[32m13.0/13.0 MB\u001b[0m \u001b[31m36.1 MB/s\u001b[0m eta \u001b[36m0:00:00\u001b[0m\n",
            "\u001b[?25hRequirement already satisfied: spacy<3.8.0,>=3.7.0 in /usr/local/lib/python3.10/dist-packages (from pt-core-news-sm==3.7.0) (3.7.4)\n",
            "Requirement already satisfied: spacy-legacy<3.1.0,>=3.0.11 in /usr/local/lib/python3.10/dist-packages (from spacy<3.8.0,>=3.7.0->pt-core-news-sm==3.7.0) (3.0.12)\n",
            "Requirement already satisfied: spacy-loggers<2.0.0,>=1.0.0 in /usr/local/lib/python3.10/dist-packages (from spacy<3.8.0,>=3.7.0->pt-core-news-sm==3.7.0) (1.0.5)\n",
            "Requirement already satisfied: murmurhash<1.1.0,>=0.28.0 in /usr/local/lib/python3.10/dist-packages (from spacy<3.8.0,>=3.7.0->pt-core-news-sm==3.7.0) (1.0.10)\n",
            "Requirement already satisfied: cymem<2.1.0,>=2.0.2 in /usr/local/lib/python3.10/dist-packages (from spacy<3.8.0,>=3.7.0->pt-core-news-sm==3.7.0) (2.0.8)\n",
            "Requirement already satisfied: preshed<3.1.0,>=3.0.2 in /usr/local/lib/python3.10/dist-packages (from spacy<3.8.0,>=3.7.0->pt-core-news-sm==3.7.0) (3.0.9)\n",
            "Requirement already satisfied: thinc<8.3.0,>=8.2.2 in /usr/local/lib/python3.10/dist-packages (from spacy<3.8.0,>=3.7.0->pt-core-news-sm==3.7.0) (8.2.3)\n",
            "Requirement already satisfied: wasabi<1.2.0,>=0.9.1 in /usr/local/lib/python3.10/dist-packages (from spacy<3.8.0,>=3.7.0->pt-core-news-sm==3.7.0) (1.1.2)\n",
            "Requirement already satisfied: srsly<3.0.0,>=2.4.3 in /usr/local/lib/python3.10/dist-packages (from spacy<3.8.0,>=3.7.0->pt-core-news-sm==3.7.0) (2.4.8)\n",
            "Requirement already satisfied: catalogue<2.1.0,>=2.0.6 in /usr/local/lib/python3.10/dist-packages (from spacy<3.8.0,>=3.7.0->pt-core-news-sm==3.7.0) (2.0.10)\n",
            "Requirement already satisfied: weasel<0.4.0,>=0.1.0 in /usr/local/lib/python3.10/dist-packages (from spacy<3.8.0,>=3.7.0->pt-core-news-sm==3.7.0) (0.3.4)\n",
            "Requirement already satisfied: typer<0.10.0,>=0.3.0 in /usr/local/lib/python3.10/dist-packages (from spacy<3.8.0,>=3.7.0->pt-core-news-sm==3.7.0) (0.9.4)\n",
            "Requirement already satisfied: smart-open<7.0.0,>=5.2.1 in /usr/local/lib/python3.10/dist-packages (from spacy<3.8.0,>=3.7.0->pt-core-news-sm==3.7.0) (6.4.0)\n",
            "Requirement already satisfied: tqdm<5.0.0,>=4.38.0 in /usr/local/lib/python3.10/dist-packages (from spacy<3.8.0,>=3.7.0->pt-core-news-sm==3.7.0) (4.66.4)\n",
            "Requirement already satisfied: requests<3.0.0,>=2.13.0 in /usr/local/lib/python3.10/dist-packages (from spacy<3.8.0,>=3.7.0->pt-core-news-sm==3.7.0) (2.31.0)\n",
            "Requirement already satisfied: pydantic!=1.8,!=1.8.1,<3.0.0,>=1.7.4 in /usr/local/lib/python3.10/dist-packages (from spacy<3.8.0,>=3.7.0->pt-core-news-sm==3.7.0) (2.7.1)\n",
            "Requirement already satisfied: jinja2 in /usr/local/lib/python3.10/dist-packages (from spacy<3.8.0,>=3.7.0->pt-core-news-sm==3.7.0) (3.1.4)\n",
            "Requirement already satisfied: setuptools in /usr/local/lib/python3.10/dist-packages (from spacy<3.8.0,>=3.7.0->pt-core-news-sm==3.7.0) (67.7.2)\n",
            "Requirement already satisfied: packaging>=20.0 in /usr/local/lib/python3.10/dist-packages (from spacy<3.8.0,>=3.7.0->pt-core-news-sm==3.7.0) (24.0)\n",
            "Requirement already satisfied: langcodes<4.0.0,>=3.2.0 in /usr/local/lib/python3.10/dist-packages (from spacy<3.8.0,>=3.7.0->pt-core-news-sm==3.7.0) (3.4.0)\n",
            "Requirement already satisfied: numpy>=1.19.0 in /usr/local/lib/python3.10/dist-packages (from spacy<3.8.0,>=3.7.0->pt-core-news-sm==3.7.0) (1.25.2)\n",
            "Requirement already satisfied: language-data>=1.2 in /usr/local/lib/python3.10/dist-packages (from langcodes<4.0.0,>=3.2.0->spacy<3.8.0,>=3.7.0->pt-core-news-sm==3.7.0) (1.2.0)\n",
            "Requirement already satisfied: annotated-types>=0.4.0 in /usr/local/lib/python3.10/dist-packages (from pydantic!=1.8,!=1.8.1,<3.0.0,>=1.7.4->spacy<3.8.0,>=3.7.0->pt-core-news-sm==3.7.0) (0.7.0)\n",
            "Requirement already satisfied: pydantic-core==2.18.2 in /usr/local/lib/python3.10/dist-packages (from pydantic!=1.8,!=1.8.1,<3.0.0,>=1.7.4->spacy<3.8.0,>=3.7.0->pt-core-news-sm==3.7.0) (2.18.2)\n",
            "Requirement already satisfied: typing-extensions>=4.6.1 in /usr/local/lib/python3.10/dist-packages (from pydantic!=1.8,!=1.8.1,<3.0.0,>=1.7.4->spacy<3.8.0,>=3.7.0->pt-core-news-sm==3.7.0) (4.11.0)\n",
            "Requirement already satisfied: charset-normalizer<4,>=2 in /usr/local/lib/python3.10/dist-packages (from requests<3.0.0,>=2.13.0->spacy<3.8.0,>=3.7.0->pt-core-news-sm==3.7.0) (3.3.2)\n",
            "Requirement already satisfied: idna<4,>=2.5 in /usr/local/lib/python3.10/dist-packages (from requests<3.0.0,>=2.13.0->spacy<3.8.0,>=3.7.0->pt-core-news-sm==3.7.0) (3.7)\n",
            "Requirement already satisfied: urllib3<3,>=1.21.1 in /usr/local/lib/python3.10/dist-packages (from requests<3.0.0,>=2.13.0->spacy<3.8.0,>=3.7.0->pt-core-news-sm==3.7.0) (2.0.7)\n",
            "Requirement already satisfied: certifi>=2017.4.17 in /usr/local/lib/python3.10/dist-packages (from requests<3.0.0,>=2.13.0->spacy<3.8.0,>=3.7.0->pt-core-news-sm==3.7.0) (2024.2.2)\n",
            "Requirement already satisfied: blis<0.8.0,>=0.7.8 in /usr/local/lib/python3.10/dist-packages (from thinc<8.3.0,>=8.2.2->spacy<3.8.0,>=3.7.0->pt-core-news-sm==3.7.0) (0.7.11)\n",
            "Requirement already satisfied: confection<1.0.0,>=0.0.1 in /usr/local/lib/python3.10/dist-packages (from thinc<8.3.0,>=8.2.2->spacy<3.8.0,>=3.7.0->pt-core-news-sm==3.7.0) (0.1.4)\n",
            "Requirement already satisfied: click<9.0.0,>=7.1.1 in /usr/local/lib/python3.10/dist-packages (from typer<0.10.0,>=0.3.0->spacy<3.8.0,>=3.7.0->pt-core-news-sm==3.7.0) (8.1.7)\n",
            "Requirement already satisfied: cloudpathlib<0.17.0,>=0.7.0 in /usr/local/lib/python3.10/dist-packages (from weasel<0.4.0,>=0.1.0->spacy<3.8.0,>=3.7.0->pt-core-news-sm==3.7.0) (0.16.0)\n",
            "Requirement already satisfied: MarkupSafe>=2.0 in /usr/local/lib/python3.10/dist-packages (from jinja2->spacy<3.8.0,>=3.7.0->pt-core-news-sm==3.7.0) (2.1.5)\n",
            "Requirement already satisfied: marisa-trie>=0.7.7 in /usr/local/lib/python3.10/dist-packages (from language-data>=1.2->langcodes<4.0.0,>=3.2.0->spacy<3.8.0,>=3.7.0->pt-core-news-sm==3.7.0) (1.1.1)\n",
            "Installing collected packages: pt-core-news-sm\n",
            "Successfully installed pt-core-news-sm-3.7.0\n",
            "\u001b[38;5;2m✔ Download and installation successful\u001b[0m\n",
            "You can now load the package via spacy.load('pt_core_news_sm')\n",
            "\u001b[38;5;3m⚠ Restart to reload dependencies\u001b[0m\n",
            "If you are in a Jupyter or Colab notebook, you may need to restart Python in\n",
            "order to load all the package's dependencies. You can do this by selecting the\n",
            "'Restart kernel' or 'Restart runtime' option.\n"
          ]
        }
      ]
    },
    {
      "cell_type": "code",
      "source": [
        "import nltk\n",
        "nltk.download('punkt')\n",
        "nltk.download('stopwords')"
      ],
      "metadata": {
        "colab": {
          "base_uri": "https://localhost:8080/"
        },
        "id": "nv-ATvk5ioKO",
        "outputId": "f1df91d2-a9ee-4f63-c4a1-7c7441189289"
      },
      "execution_count": null,
      "outputs": [
        {
          "output_type": "stream",
          "name": "stderr",
          "text": [
            "[nltk_data] Downloading package punkt to /root/nltk_data...\n",
            "[nltk_data]   Unzipping tokenizers/punkt.zip.\n",
            "[nltk_data] Downloading package stopwords to /root/nltk_data...\n",
            "[nltk_data]   Unzipping corpora/stopwords.zip.\n"
          ]
        },
        {
          "output_type": "execute_result",
          "data": {
            "text/plain": [
              "True"
            ]
          },
          "metadata": {},
          "execution_count": 5
        }
      ]
    },
    {
      "cell_type": "markdown",
      "source": [
        "LEITURA EXCEL"
      ],
      "metadata": {
        "id": "AR9xJL6bcEWh"
      }
    },
    {
      "cell_type": "code",
      "execution_count": null,
      "metadata": {
        "colab": {
          "base_uri": "https://localhost:8080/"
        },
        "id": "LqwE3y32v-pH",
        "outputId": "51420d7f-ef40-44d2-fb82-82e08033524e"
      },
      "outputs": [
        {
          "output_type": "stream",
          "name": "stdout",
          "text": [
            "                                               title  \\\n",
            "0  Haverá pressão por transparência no 'brexit', ...   \n",
            "1  Empresário confirma ter pago propina para obte...   \n",
            "2  Falta de ataques do São Paulo surpreende corin...   \n",
            "3  Líderes de comissão do Senado não veem sinais ...   \n",
            "4  Renan opera contra governo e reforma trabalhis...   \n",
            "\n",
            "                                                text        date category  \\\n",
            "0  As negociações do \"brexit\" devem ocorrer a por...  2017-03-31    mundo   \n",
            "1  O empresário Augusto Ribeiro de Mendonça Neto,...  2015-03-02    poder   \n",
            "2  Cássio sorriu e pareceu sem jeito com a pergun...  2015-02-19  esporte   \n",
            "3  Os líderes dos partidos Republicano e Democrat...  2017-03-16    mundo   \n",
            "4  Um acordo que contou com a articulação de Rena...  2017-03-05  mercado   \n",
            "\n",
            "  subcategory  \n",
            "0         nan  \n",
            "1         nan  \n",
            "2         nan  \n",
            "3         nan  \n",
            "4         nan  \n"
          ]
        }
      ],
      "source": [
        "import pandas as pd\n",
        "\n",
        "# Substitua 'seu_arquivo.csv' pelo caminho para o seu arquivo CSV\n",
        "caminho_arquivo = '/content/dataset.csv'\n",
        "\n",
        "# Tente ler o arquivo CSV especificando a codificação correta\n",
        "try:\n",
        "    df = pd.read_csv(caminho_arquivo, encoding='latin1')\n",
        "\n",
        "    # Corrigir as palavras erradas apenas nas colunas de texto\n",
        "    for coluna in df.columns:\n",
        "        if df[coluna].dtype == 'object':  # Verifica se a coluna contém texto\n",
        "            df[coluna] = df[coluna].astype(str).apply(lambda x: x.encode('latin1').decode('utf-8', 'ignore'))\n",
        "\n",
        "    # Exibir as primeiras linhas do DataFrame corrigido\n",
        "    print(df.head())\n",
        "\n",
        "except Exception as e:\n",
        "    print(\"Ocorreu um erro ao tentar ler o arquivo CSV:\", e)"
      ]
    },
    {
      "cell_type": "markdown",
      "metadata": {
        "id": "rsAa-2o54M-B"
      },
      "source": [
        "# ANÁLISE EXPLORATÓRIA\n"
      ]
    },
    {
      "cell_type": "code",
      "execution_count": null,
      "metadata": {
        "colab": {
          "base_uri": "https://localhost:8080/",
          "height": 1000
        },
        "id": "nYtPTZtt4PhI",
        "outputId": "fae23ea1-3501-42e7-bd1a-d824cd36c130"
      },
      "outputs": [
        {
          "output_type": "stream",
          "name": "stdout",
          "text": [
            "Visualização das primeiras linhas do DataFrame:\n",
            "                                               title  \\\n",
            "0  Haverá pressão por transparência no 'brexit', ...   \n",
            "1  Empresário confirma ter pago propina para obte...   \n",
            "2  Falta de ataques do São Paulo surpreende corin...   \n",
            "3  Líderes de comissão do Senado não veem sinais ...   \n",
            "4  Renan opera contra governo e reforma trabalhis...   \n",
            "\n",
            "                                                text        date category  \\\n",
            "0  As negociações do \"brexit\" devem ocorrer a por...  2017-03-31    mundo   \n",
            "1  O empresário Augusto Ribeiro de Mendonça Neto,...  2015-03-02    poder   \n",
            "2  Cássio sorriu e pareceu sem jeito com a pergun...  2015-02-19  esporte   \n",
            "3  Os líderes dos partidos Republicano e Democrat...  2017-03-16    mundo   \n",
            "4  Um acordo que contou com a articulação de Rena...  2017-03-05  mercado   \n",
            "\n",
            "  subcategory  \n",
            "0         nan  \n",
            "1         nan  \n",
            "2         nan  \n",
            "3         nan  \n",
            "4         nan  \n",
            "\n",
            "Resumo estatístico das colunas numéricas:\n",
            "                                                    title  \\\n",
            "count                                               51502   \n",
            "unique                                              51328   \n",
            "top     Veja os lançamentos da área jurídica em destaq...   \n",
            "freq                                                   37   \n",
            "\n",
            "                                                     text        date  \\\n",
            "count                                               51502       51502   \n",
            "unique                                              51481         987   \n",
            "top     Dados colhidos por uma espaçonave da Nasa conf...  2015-09-03   \n",
            "freq                                                    4         102   \n",
            "\n",
            "       category subcategory  \n",
            "count     51502       51502  \n",
            "unique        9           4  \n",
            "top       poder         nan  \n",
            "freq      11011       49595  \n",
            "\n",
            "Informações do DataFrame:\n",
            "<class 'pandas.core.frame.DataFrame'>\n",
            "RangeIndex: 51502 entries, 0 to 51501\n",
            "Data columns (total 5 columns):\n",
            " #   Column       Non-Null Count  Dtype \n",
            "---  ------       --------------  ----- \n",
            " 0   title        51502 non-null  object\n",
            " 1   text         51502 non-null  object\n",
            " 2   date         51502 non-null  object\n",
            " 3   category     51502 non-null  object\n",
            " 4   subcategory  51502 non-null  object\n",
            "dtypes: object(5)\n",
            "memory usage: 2.0+ MB\n",
            "None\n",
            "\n",
            "Valores ausentes por coluna:\n",
            "title          0\n",
            "text           0\n",
            "date           0\n",
            "category       0\n",
            "subcategory    0\n",
            "dtype: int64\n"
          ]
        },
        {
          "output_type": "display_data",
          "data": {
            "text/plain": [
              "<Figure size 1000x600 with 1 Axes>"
            ],
            "image/png": "[encoded data removed]"
          },
          "metadata": {}
        },
        {
          "output_type": "display_data",
          "data": {
            "text/plain": [
              "<Figure size 1000x600 with 1 Axes>"
            ],
            "image/png": "[encoded data removed]"
          },
          "metadata": {}
        }
      ],
      "source": [
        "# Visualizar as primeiras linhas do DataFrame\n",
        "print(\"Visualização das primeiras linhas do DataFrame:\")\n",
        "print(df.head())\n",
        "\n",
        "# Resumo estatístico das colunas numéricas\n",
        "print(\"\\nResumo estatístico das colunas numéricas:\")\n",
        "print(df.describe())\n",
        "\n",
        "# Verificar tipos de dados e informações do DataFrame\n",
        "print(\"\\nInformações do DataFrame:\")\n",
        "print(df.info())\n",
        "\n",
        "# Verificar se há valores ausentes\n",
        "print(\"\\nValores ausentes por coluna:\")\n",
        "print(df.isnull().sum())\n",
        "\n",
        "# Plotar a contagem de categorias\n",
        "plt.figure(figsize=(10, 6))\n",
        "sns.countplot(data=df, x='category')\n",
        "plt.title('Contagem de Categorias')\n",
        "plt.xlabel('Categoria')\n",
        "plt.ylabel('Contagem')\n",
        "plt.xticks(rotation=45)\n",
        "plt.show()\n",
        "\n",
        "# Plotar a contagem de subcategorias\n",
        "plt.figure(figsize=(10, 6))\n",
        "sns.countplot(data=df, x='subcategory')\n",
        "plt.title('Contagem de Subcategorias')\n",
        "plt.xlabel('Subcategoria')\n",
        "plt.ylabel('Contagem')\n",
        "plt.xticks(rotation=45)\n",
        "plt.show()"
      ]
    },
    {
      "cell_type": "code",
      "execution_count": null,
      "metadata": {
        "colab": {
          "base_uri": "https://localhost:8080/",
          "height": 634
        },
        "id": "YU5x2y2K_LFk",
        "outputId": "fe958ffc-7240-4655-9b6a-78883c194d60"
      },
      "outputs": [
        {
          "output_type": "stream",
          "name": "stderr",
          "text": [
            "[nltk_data] Downloading package punkt to /root/nltk_data...\n",
            "[nltk_data]   Unzipping tokenizers/punkt.zip.\n",
            "[nltk_data] Downloading package stopwords to /root/nltk_data...\n",
            "[nltk_data]   Package stopwords is already up-to-date!\n"
          ]
        },
        {
          "output_type": "display_data",
          "data": {
            "text/plain": [
              "<Figure size 1000x600 with 1 Axes>"
            ],
            "image/png": "[encoded data removed]"
          },
          "metadata": {}
        }
      ],
      "source": [
        "# Distribuição do comprimento das sentenças\n",
        "df['num_sentencas'] = df['text'].apply(lambda x: len(nltk.sent_tokenize(x)))\n",
        "plt.figure(figsize=(10, 6))\n",
        "plt.hist(df['num_sentencas'], bins=30, color='skyblue', edgecolor='black')\n",
        "plt.title('Distribuição do Comprimento das Sentenças')\n",
        "plt.xlabel('Número de Sentenças')\n",
        "plt.ylabel('Frequência')\n",
        "plt.grid(True)\n",
        "plt.show()"
      ]
    },
    {
      "cell_type": "code",
      "source": [
        "category_counts = df['category'].value_counts()\n",
        "print(category_counts)"
      ],
      "metadata": {
        "colab": {
          "base_uri": "https://localhost:8080/"
        },
        "id": "yKQlXEEGmlKQ",
        "outputId": "b9c678b7-f6fa-4fc0-d939-978dc5df4b89"
      },
      "execution_count": null,
      "outputs": [
        {
          "output_type": "stream",
          "name": "stdout",
          "text": [
            "category\n",
            "poder        11011\n",
            "mercado      10485\n",
            "esporte       9865\n",
            "mundo         8565\n",
            "cotidiano     8484\n",
            "educacao      1059\n",
            "turismo        952\n",
            "ciencia        667\n",
            "comida         414\n",
            "Name: count, dtype: int64\n"
          ]
        }
      ]
    },
    {
      "cell_type": "markdown",
      "source": [
        "## PRÉ PROCESSAMENTO DOS DADOS"
      ],
      "metadata": {
        "id": "Gl1tzgkE0RkP"
      }
    },
    {
      "cell_type": "code",
      "source": [
        "# Load spaCy Portuguese model (change 'pt_core_news_sm' for different models)\n",
        "nlp = spacy.load(\"pt_core_news_sm\")\n",
        "\n",
        "# Function to combine pre-processing steps\n",
        "def preprocess_text(text):\n",
        "  \"\"\"\n",
        "  Pre-processes text data using NLTK and spaCy.\n",
        "\n",
        "  Args:\n",
        "      text (str): The text to be pre-processed.\n",
        "\n",
        "  Returns:\n",
        "      str: The pre-processed text.\n",
        "  \"\"\"\n",
        "\n",
        "  # NLTK Pre-processing\n",
        "  text = text.lower()  # Convert to lowercase\n",
        "  text = text.translate(str.maketrans('', '', string.punctuation))  # Remove punctuation (using imported string module)\n",
        "  tokens = text.split()  # Tokenize into words\n",
        "  tokens = [word for word in tokens if word not in stop_words]  # Remove stopwords (using downloaded stopwords)\n",
        "  stemmer = SnowballStemmer('portuguese')  # Optional: Stemming (uncomment if needed)\n",
        "  # tokens = [stemmer.stem(token) for token in tokens]  # Uncomment to apply stemming\n",
        "\n",
        "  # spaCy Pre-processing (optional)\n",
        "  doc = nlp(text)  # Create spaCy Doc object\n",
        "  tokens = [token.text for token in doc if token.is_alpha]  # Extract alphanumeric tokens\n",
        "\n",
        "  # Combine pre-processed tokens (consider customization for your task)\n",
        "  preprocessed_text = ' '.join(tokens)\n",
        "  return preprocessed_text\n",
        "\n",
        "# Apply pre-processing to your DataFrame column\n",
        "df['texto_preprocessado'] = df['text'].apply(preprocess_text)\n",
        "\n",
        "# Print or save the pre-processed DataFrame\n",
        "print(df[['text', 'texto_preprocessado']].head())  # Example: View pre-processing results\n",
        "df.to_csv('preprocessed_data.csv', index=False)  # Example: Save pre-processed data"
      ],
      "metadata": {
        "colab": {
          "base_uri": "https://localhost:8080/"
        },
        "id": "qcpoEuhX0UTh",
        "outputId": "0e681db9-823c-421e-daf5-2bf4bf97c857"
      },
      "execution_count": null,
      "outputs": [
        {
          "output_type": "stream",
          "name": "stdout",
          "text": [
            "                                                text  \\\n",
            "0  As negociações do \"brexit\" devem ocorrer a por...   \n",
            "1  O empresário Augusto Ribeiro de Mendonça Neto,...   \n",
            "2  Cássio sorriu e pareceu sem jeito com a pergun...   \n",
            "3  Os líderes dos partidos Republicano e Democrat...   \n",
            "4  Um acordo que contou com a articulação de Rena...   \n",
            "\n",
            "                                 texto_preprocessado  \n",
            "0  as negociações do brexit devem ocorrer a porta...  \n",
            "1  o empresário augusto ribeiro de mendonça neto ...  \n",
            "2  cássio sorriu e pareceu sem jeito com a pergun...  \n",
            "3  os líderes dos partidos republicano e democrat...  \n",
            "4  um acordo que contou com a articulação de rena...  \n"
          ]
        }
      ]
    },
    {
      "cell_type": "code",
      "source": [
        "def preprocess_text(text):\n",
        "    # Convert to lowercase\n",
        "    text = text.lower()\n",
        "\n",
        "    # Remove punctuation (using imported string module)\n",
        "    text = text.translate(str.maketrans('', '', string.punctuation))\n",
        "\n",
        "    # Tokenize into words\n",
        "    tokens = text.split()\n",
        "\n",
        "    # Remove stopwords (using downloaded stopwords)\n",
        "    stop_words = set(stopwords.words('portuguese'))\n",
        "    tokens = [word for word in tokens if word not in stop_words]\n",
        "\n",
        "    # Optional: Stemming (uncomment if needed)\n",
        "    stemmer = SnowballStemmer('portuguese')\n",
        "    # tokens = [stemmer.stem(token) for token in tokens]  # Uncomment to apply stemming\n",
        "\n",
        "    # Combine pre-processed tokens (consider customization for your task)\n",
        "    preprocessed_text = ' '.join(tokens)\n",
        "\n",
        "    return preprocessed_text\n",
        "\n",
        "# Apply pre-processing to your DataFrame column\n",
        "df['texto_preprocessado'] = df['text'].apply(preprocess_text)\n",
        "\n",
        "# Print or save the pre-processed DataFrame\n",
        "print(df[['text', 'texto_preprocessado']].head())  # Example: View pre-processing results\n",
        "df.to_csv('preprocessed_data.csv', index=False)  # Example: Save pre-processed data"
      ],
      "metadata": {
        "colab": {
          "base_uri": "https://localhost:8080/"
        },
        "id": "eLFEDLm7McFC",
        "outputId": "0a55ca71-118c-4e2b-fecf-0e2afdc2f5bc"
      },
      "execution_count": null,
      "outputs": [
        {
          "output_type": "stream",
          "name": "stdout",
          "text": [
            "                                                text  \\\n",
            "0  As negociações do \"brexit\" devem ocorrer a por...   \n",
            "1  O empresário Augusto Ribeiro de Mendonça Neto,...   \n",
            "2  Cássio sorriu e pareceu sem jeito com a pergun...   \n",
            "3  Os líderes dos partidos Republicano e Democrat...   \n",
            "4  Um acordo que contou com a articulação de Rena...   \n",
            "\n",
            "                                 texto_preprocessado  \n",
            "0  negociações brexit devem ocorrer portas fechad...  \n",
            "1  empresário augusto ribeiro mendonça neto sócio...  \n",
            "2  cássio sorriu pareceu jeito pergunta tentou di...  \n",
            "3  líderes partidos republicano democrata comissã...  \n",
            "4  acordo contou articulação renan calheiros pmdb...  \n"
          ]
        }
      ]
    },
    {
      "cell_type": "code",
      "source": [
        "df = pd.read_csv('/content/preprocessed_data.csv')\n",
        "\n",
        "def preprocess_text(text):\n",
        "    \"\"\"\n",
        "    Função para pré-processar texto em português para classificação de notícias.\n",
        "\n",
        "    Argumentos:\n",
        "        text (str): O texto a ser pré-processado.\n",
        "\n",
        "    Retorna:\n",
        "        str: O texto pré-processado.\n",
        "    \"\"\"\n",
        "\n",
        "    # Converter para minúsculas\n",
        "    text = text.lower()\n",
        "\n",
        "    # Remover pontuação (usando módulo string importado)\n",
        "    text = text.translate(str.maketrans('', '', string.punctuation))\n",
        "\n",
        "    # Tokenizar em palavras\n",
        "    tokens = text.split()\n",
        "\n",
        "    # Remover stopwords (usando stopwords baixados)\n",
        "    stop_words = set(stopwords.words('portuguese'))\n",
        "    tokens = [word for word in tokens if word not in stop_words]\n",
        "\n",
        "    # Normalização de acentos (opcional)\n",
        "    normalized_tokens = []\n",
        "    for token in tokens:\n",
        "        normalized_token = unicodedata.normalize('NFKD', token).encode('ascii', 'ignore').decode('utf-8')\n",
        "        normalized_tokens.append(normalized_token)\n",
        "\n",
        "    # Lemmatization (opcional)\n",
        "    lemmatizer = WordNetLemmatizer()\n",
        "    lemmatized_tokens = []\n",
        "    for token in normalized_tokens:\n",
        "        lemmatized_token = lemmatizer.lemmatize(token)\n",
        "        lemmatized_tokens.append(lemmatized_token)\n",
        "\n",
        "    # Optional: Stemming (descomente se necessário)\n",
        "    stemmer = SnowballStemmer('portuguese')\n",
        "    # tokens = [stemmer.stem(token) for token in tokens]  # Descomente para aplicar stemming\n",
        "\n",
        "    # Combinar tokens pré-processados (considere personalização para sua tarefa)\n",
        "    preprocessed_text = ' '.join(lemmatized_tokens)  # Use tokens lematizados para o texto final\n",
        "\n",
        "    return preprocessed_text\n",
        "\n",
        "# Aplicar pré-processamento à coluna do seu DataFrame\n",
        "df['texto_preprocessado'] = df['text'].apply(preprocess_text)\n",
        "\n",
        "# Imprimir ou salvar o DataFrame pré-processado\n",
        "print(df[['text', 'texto_preprocessado']].head())  # Exemplo: Visualizar resultados do pré-processamento\n",
        "df.to_csv('dados_pre_processados.csv', index=False)  # Exemplo: Salvar dados pré-processados\n",
        "df.to_csv('preprocessed2_data.csv', index=False)  # Example: Save pre-processed data"
      ],
      "metadata": {
        "colab": {
          "base_uri": "https://localhost:8080/"
        },
        "id": "w6yhqGVGNS4h",
        "outputId": "ee5be7e8-9f79-4725-c374-7bbfeb9367e3"
      },
      "execution_count": null,
      "outputs": [
        {
          "output_type": "stream",
          "name": "stdout",
          "text": [
            "                                                text  \\\n",
            "0  As negociações do \"brexit\" devem ocorrer a por...   \n",
            "1  O empresário Augusto Ribeiro de Mendonça Neto,...   \n",
            "2  Cássio sorriu e pareceu sem jeito com a pergun...   \n",
            "3  Os líderes dos partidos Republicano e Democrat...   \n",
            "4  Um acordo que contou com a articulação de Rena...   \n",
            "\n",
            "                                 texto_preprocessado  \n",
            "0  negociacoes brexit devem ocorrer porta fechada...  \n",
            "1  empresario augusto ribeiro mendonca neto socio...  \n",
            "2  cassio sorriu pareceu jeito pergunta tentou di...  \n",
            "3  lideres partidos republicano democrata comissa...  \n",
            "4  acordo contou articulacao renan calheiros pmdb...  \n"
          ]
        }
      ]
    },
    {
      "cell_type": "markdown",
      "source": [
        "## ANÁLISE EXPLORATÓRIA - DEPOIS DO TEXTO PROCESSADO e TESTES NO MODELO"
      ],
      "metadata": {
        "id": "XxqjzW2s6mRb"
      }
    },
    {
      "cell_type": "code",
      "source": [
        "import pandas as pd\n",
        "df = pd.read_csv('/content/preprocessed2_data.csv')"
      ],
      "metadata": {
        "id": "qk-yRk_lcq05"
      },
      "execution_count": null,
      "outputs": []
    },
    {
      "cell_type": "code",
      "source": [
        "import pandas as pd\n",
        "from collections import Counter\n",
        "from nltk.tokenize import word_tokenize\n",
        "from nltk.corpus import stopwords\n",
        "import string\n",
        "\n",
        "# Função para pré-processamento de texto\n",
        "def preprocess_text(text):\n",
        "    # Tokenização\n",
        "    tokens = word_tokenize(text.lower())\n",
        "\n",
        "    # Remoção de stopwords e pontuações\n",
        "    stop_words = set(stopwords.words('portuguese') + list(string.punctuation))\n",
        "    filtered_tokens = [word for word in tokens if word not in stop_words and word.isalpha()]\n",
        "\n",
        "    return filtered_tokens\n",
        "\n",
        "# Ler o arquivo CSV para um DataFrame\n",
        "df = pd.read_csv(\"/content/preprocessed2_data.csv\")\n",
        "\n",
        "# Pré-processar os textos\n",
        "df['text'] = df['text'].apply(preprocess_text)\n",
        "\n",
        "# Calcular a frequência de palavras no geral\n",
        "all_words = [word for text in df['text'] for word in text]\n",
        "word_freq_all = Counter(all_words)\n",
        "\n",
        "print(\"Frequência de palavras no geral:\")\n",
        "print(word_freq_all.most_common(10))  # Exibir as 10 palavras mais frequentes no geral\n",
        "\n",
        "# Calcular a frequência de palavras por categoria\n",
        "word_freq_by_category = {}\n",
        "for category in df['category'].unique():\n",
        "    category_words = [word for idx, row in df[df['category'] == category].iterrows() for word in row['text']]\n",
        "    word_freq_by_category[category] = Counter(category_words)\n",
        "\n",
        "# Exibir a frequência de palavras por categoria\n",
        "for category, word_freq in word_freq_by_category.items():\n",
        "    print(f\"\\nFrequência de palavras na categoria '{category}':\")\n",
        "    print(word_freq.most_common(10))  # Exibir as 10 palavras mais frequentes na categoria"
      ],
      "metadata": {
        "colab": {
          "base_uri": "https://localhost:8080/"
        },
        "id": "HA88YdEgi2g1",
        "outputId": "ccc35928-5327-403c-f4cc-85b302114947"
      },
      "execution_count": null,
      "outputs": [
        {
          "output_type": "stream",
          "name": "stdout",
          "text": [
            "Frequência de palavras no geral:\n",
            "[('disse', 58615), ('segundo', 49257), ('governo', 48577), ('r', 47712), ('presidente', 45607), ('sobre', 42642), ('ano', 41662), ('ainda', 39822), ('anos', 39023), ('nesta', 36202)]\n",
            "\n",
            "Frequência de palavras na categoria 'mundo':\n",
            "[('disse', 14507), ('país', 11124), ('governo', 10897), ('presidente', 10289), ('sobre', 9367), ('trump', 8502), ('pessoas', 8465), ('anos', 8173), ('segundo', 7983), ('contra', 7005)]\n",
            "\n",
            "Frequência de palavras na categoria 'poder':\n",
            "[('presidente', 21370), ('governo', 16946), ('disse', 16749), ('federal', 13428), ('dilma', 13126), ('sobre', 12105), ('segundo', 12033), ('afirmou', 10946), ('r', 10175), ('temer', 9629)]\n",
            "\n",
            "Frequência de palavras na categoria 'esporte':\n",
            "[('time', 8560), ('disse', 7944), ('jogos', 7659), ('brasil', 7585), ('paulo', 7098), ('contra', 6899), ('jogo', 6806), ('equipe', 6761), ('brasileiro', 6490), ('nesta', 6452)]\n",
            "\n",
            "Frequência de palavras na categoria 'mercado':\n",
            "[('r', 20933), ('ano', 16718), ('governo', 14171), ('bilhões', 11299), ('segundo', 11032), ('disse', 10258), ('mercado', 10238), ('brasil', 10031), ('sobre', 9421), ('empresa', 9337)]\n",
            "\n",
            "Frequência de palavras na categoria 'cotidiano':\n",
            "[('segundo', 10219), ('paulo', 9903), ('anos', 8053), ('disse', 7357), ('diz', 7312), ('ainda', 7054), ('ano', 6623), ('r', 6555), ('polícia', 6380), ('pessoas', 6230)]\n",
            "\n",
            "Frequência de palavras na categoria 'turismo':\n",
            "[('r', 2496), ('cidade', 1146), ('noites', 1135), ('onde', 886), ('anos', 855), ('aéreo', 823), ('pessoa', 794), ('café', 745), ('us', 740), ('ano', 731)]\n",
            "\n",
            "Frequência de palavras na categoria 'ciencia':\n",
            "[('anos', 1021), ('sobre', 703), ('pode', 665), ('ainda', 655), ('diz', 652), ('ter', 585), ('cientistas', 584), ('universidade', 531), ('estudo', 518), ('pesquisadores', 515)]\n",
            "\n",
            "Frequência de palavras na categoria 'educacao':\n",
            "[('educação', 2508), ('ensino', 2447), ('alunos', 2358), ('ano', 1821), ('escolas', 1742), ('escola', 1725), ('estudantes', 1623), ('diz', 1441), ('segundo', 1267), ('professores', 1125)]\n",
            "\n",
            "Frequência de palavras na categoria 'comida':\n",
            "[('r', 929), ('restaurante', 403), ('chef', 401), ('onde', 381), ('casa', 342), ('cozinha', 330), ('anos', 291), ('diz', 264), ('paulo', 245), ('pratos', 243)]\n"
          ]
        }
      ]
    },
    {
      "cell_type": "code",
      "source": [
        "# Definir as palavras a serem removidas\n",
        "palavras_a_remover = {\n",
        "    'mundo': ['sobre', 'anos'],\n",
        "    'poder': ['sobre', 'afirmou', 'ainda'],\n",
        "    'esporte': ['ainda'],\n",
        "    'mercado': ['sobre', 'empresa'],\n",
        "    'cotidiano': ['ainda'],\n",
        "    'turismo': ['onde'],\n",
        "    'ciencia': ['ainda', 'sobre', 'pode', 'ter'],\n",
        "    'educacao': ['diz', 'segundo'],\n",
        "    'comida': ['diz', 'onde']\n",
        "    # Adicione outras categorias e palavras a serem removidas conforme necessário\n",
        "}\n",
        "\n",
        "# Carregar os dados pré-processados\n",
        "df = pd.read_csv('/content/preprocessed2_data.csv')\n",
        "\n",
        "# Função para remover palavras específicas de uma categoria\n",
        "def remove_palavras_categoria(row):\n",
        "    categoria = row['category']\n",
        "    texto = row['text']\n",
        "\n",
        "    # Verificar se a categoria tem palavras a remover definidas\n",
        "    if categoria in palavras_a_remover:\n",
        "        for palavra in palavras_a_remover[categoria]:\n",
        "            texto = texto.replace(palavra, '')\n",
        "\n",
        "    return texto\n",
        "\n",
        "# Aplicar a remoção de palavras por categoria\n",
        "df['text'] = df.apply(remove_palavras_categoria, axis=1)\n",
        "\n",
        "# Salvar os dados modificados\n",
        "df.to_csv('/content/preprocessed2_data_removido.csv', index=False)"
      ],
      "metadata": {
        "id": "LZcJIGn6pmHl"
      },
      "execution_count": null,
      "outputs": []
    },
    {
      "cell_type": "code",
      "source": [
        "# Carregar o DataFrame\n",
        "df = pd.read_csv('/content/preprocessed2_data_removido.csv')\n",
        "\n",
        "\n",
        "\n",
        "# Função para calcular a frequência de palavras por categoria\n",
        "def word_frequency_by_category(dataframe, category_column, text_column):\n",
        "    categories = dataframe[category_column].unique()\n",
        "    word_freq_by_category = {}\n",
        "\n",
        "    for category in categories:\n",
        "        category_data = dataframe[dataframe[category_column] == category]\n",
        "        all_words = []\n",
        "        for text in category_data[text_column]:\n",
        "            preprocessed_text = preprocess_text(text)\n",
        "            all_words.extend(preprocessed_text)\n",
        "        word_freq_by_category[category] = Counter(all_words)\n",
        "\n",
        "    return word_freq_by_category\n",
        "\n",
        "# Calcular a frequência de palavras por categoria\n",
        "word_freq_by_category = word_frequency_by_category(df, 'category', 'text')\n",
        "\n",
        "# Exibir as 10 palavras mais frequentes em cada categoria\n",
        "for category, word_freq in word_freq_by_category.items():\n",
        "    print(f\"Frequência de palavras na categoria '{category}':\")\n",
        "    print(word_freq.most_common(10))\n",
        "    print()"
      ],
      "metadata": {
        "colab": {
          "base_uri": "https://localhost:8080/"
        },
        "id": "AwJHfUCilC3X",
        "outputId": "df83fa35-dbef-4879-fc0f-019349f2783e"
      },
      "execution_count": null,
      "outputs": [
        {
          "output_type": "stream",
          "name": "stdout",
          "text": [
            "Frequência de palavras na categoria 'mundo':\n",
            "[('diss', 16778), ('país', 15752), ('govern', 13222), ('president', 11823), ('estad', 11005), ('pod', 10766), ('part', 9913), ('segund', 9913), ('pesso', 9515), ('nest', 9314)]\n",
            "\n",
            "Frequência de palavras na categoria 'poder':\n",
            "[('president', 24947), ('govern', 22022), ('diss', 18680), ('part', 15237), ('segund', 14573), ('cas', 13593), ('pod', 13520), ('federal', 13435), ('dilm', 13134), ('ministr', 12206)]\n",
            "\n",
            "Frequência de palavras na categoria 'esporte':\n",
            "[('jog', 19536), ('brasileir', 11547), ('ano', 10801), ('nest', 10722), ('part', 10596), ('tim', 9833), ('primeir', 9406), ('diss', 9196), ('club', 8580), ('segund', 8463)]\n",
            "\n",
            "Frequência de palavras na categoria 'mercado':\n",
            "[('ano', 25591), ('govern', 15776), ('pod', 13907), ('nest', 12947), ('segund', 12825), ('diss', 12402), ('merc', 11990), ('país', 11537), ('bilhõ', 11296), ('banc', 11289)]\n",
            "\n",
            "Frequência de palavras na categoria 'cotidiano':\n",
            "[('ano', 14680), ('cas', 13073), ('segund', 12194), ('paul', 10198), ('dia', 9431), ('outr', 9263), ('diz', 9090), ('diss', 8813), ('afirm', 7889), ('pod', 7880)]\n",
            "\n",
            "Frequência de palavras na categoria 'turismo':\n",
            "[('ano', 1586), ('pesso', 1499), ('cidad', 1409), ('noit', 1317), ('visit', 1287), ('pod', 1209), ('outr', 1206), ('aér', 1068), ('dia', 1024), ('part', 1022)]\n",
            "\n",
            "Frequência de palavras na categoria 'ciencia':\n",
            "[('pesquis', 1426), ('ano', 1399), ('outr', 1270), ('estud', 1051), ('diz', 864), ('nov', 806), ('faz', 759), ('cientist', 685), ('diss', 681), ('tod', 674)]\n",
            "\n",
            "Frequência de palavras na categoria 'educacao':\n",
            "[('escol', 3809), ('alun', 3069), ('estud', 2976), ('ano', 2933), ('educ', 2654), ('ensin', 2646), ('professor', 1838), ('curs', 1523), ('dia', 1514), ('pod', 1467)]\n",
            "\n",
            "Frequência de palavras na categoria 'comida':\n",
            "[('restaur', 612), ('chef', 586), ('ano', 484), ('cas', 477), ('cozinh', 433), ('pod', 427), ('prat', 406), ('com', 387), ('faz', 354), ('receit', 336)]\n",
            "\n"
          ]
        }
      ]
    },
    {
      "cell_type": "code",
      "source": [
        "from sklearn.model_selection import train_test_split, GridSearchCV\n",
        "from sklearn.feature_extraction.text import TfidfVectorizer, CountVectorizer, HashingVectorizer\n",
        "from sklearn.pipeline import Pipeline\n",
        "from sklearn.linear_model import LogisticRegression\n",
        "from sklearn.metrics import classification_report\n",
        "from sklearn.preprocessing import LabelEncoder\n",
        "import pickle\n",
        "\n",
        "# Definindo colunas de texto e rótulos\n",
        "text_column = 'text'\n",
        "label_column = 'category'\n",
        "\n",
        "# Separando dados de treino e teste\n",
        "X_treino, X_teste, y_treino, y_teste = train_test_split(\n",
        "  df[text_column], df[label_column], test_size=0.2, random_state=42\n",
        ")\n",
        "\n",
        "# Codificando rótulos categóricos\n",
        "label_encoder = LabelEncoder()\n",
        "y_treino = label_encoder.fit_transform(y_treino)\n",
        "y_teste = label_encoder.transform(y_teste)\n",
        "\n",
        "# Definindo o modelo de Regressão Logística\n",
        "modelo = LogisticRegression()\n",
        "\n",
        "# Grades de hiperparâmetros\n",
        "grades_parametros = {\n",
        "  'C': [0.01, 0.1, 1],\n",
        "  'max_iter': [1000, 2000, 5000],\n",
        "}\n",
        "\n",
        "# Criando pipelines para diferentes representações de texto\n",
        "pipelines = []\n",
        "\n",
        "# 1. TfidfVectorizer com normalização L2\n",
        "pipeline_tfidf_l2 = Pipeline([\n",
        "  ('tfidf', TfidfVectorizer(max_features=10000, norm=\"l2\")),\n",
        "  ('clf', GridSearchCV(modelo, grades_parametros, cv=5, scoring='accuracy')),\n",
        "])\n",
        "pipelines.append(('TfidfVectorizer L2', pipeline_tfidf_l2))\n",
        "\n",
        "# Treinando e avaliando modelos\n",
        "for nome_modelo, pipeline in pipelines:\n",
        "  print(f\"** Treinando e avaliando {nome_modelo} com GridSearchCV...\")\n",
        "\n",
        "# Treinando o pipeline\n",
        "  pipeline.fit(X_treino, y_treino)\n",
        "\n",
        "# Salvando o modelo treinado e o vectorizer\n",
        "  with open(f'{nome_modelo}_model.pkl', 'wb') as model_file:\n",
        "   pickle.dump(pipeline, model_file)\n",
        "\n",
        "  with open(f'{nome_modelo}_vectorizer.pkl', 'wb') as vectorizer_file:\n",
        "   pickle.dump(pipeline.named_steps['tfidf'], vectorizer_file)  # Use 'tfidf' here\n",
        "\n",
        "# Previsão e avaliação no conjunto de teste\n",
        "  y_pred = pipeline.predict(X_teste)\n",
        "  print(f\"Classification Report para {nome_modelo}:\")\n",
        "  print(classification_report(y_teste, y_pred, target_names=label_encoder.classes_))\n",
        "\n",
        "# Salvando o codificador de rótulos\n",
        "with open('label_encoder.pkl', 'wb') as encoder_file:\n",
        "  pickle.dump(label_encoder, encoder_file)"
      ],
      "metadata": {
        "colab": {
          "base_uri": "https://localhost:8080/"
        },
        "id": "yThVW3eTqktH",
        "outputId": "6de8ccea-79b5-497a-c2b9-96ccf3c02bfb"
      },
      "execution_count": null,
      "outputs": [
        {
          "output_type": "stream",
          "name": "stdout",
          "text": [
            "** Treinando e avaliando TfidfVectorizer L2 com GridSearchCV...\n",
            "Classification Report para TfidfVectorizer L2:\n",
            "              precision    recall  f1-score   support\n",
            "\n",
            "     ciencia       0.94      0.73      0.82       127\n",
            "      comida       0.92      0.65      0.76        92\n",
            "   cotidiano       0.90      0.95      0.92      1638\n",
            "    educacao       0.86      0.86      0.86       236\n",
            "     esporte       0.99      0.98      0.98      1968\n",
            "     mercado       0.93      0.93      0.93      2101\n",
            "       mundo       0.94      0.97      0.95      1728\n",
            "       poder       0.94      0.93      0.93      2222\n",
            "     turismo       0.93      0.75      0.83       189\n",
            "\n",
            "    accuracy                           0.94     10301\n",
            "   macro avg       0.93      0.86      0.89     10301\n",
            "weighted avg       0.94      0.94      0.94     10301\n",
            "\n"
          ]
        }
      ]
    },
    {
      "cell_type": "code",
      "source": [
        "from sklearn.feature_extraction.text import TfidfVectorizer\n",
        "\n",
        "# Inicializando o vetorizador TF-IDF\n",
        "vetorizador = TfidfVectorizer()\n",
        "\n",
        "# Vetorizando os dados de treino e teste\n",
        "X_treino_vetorizado = vetorizador.fit_transform(X_treino)\n",
        "X_teste_vetorizado = vetorizador.transform(X_teste)\n",
        "\n",
        "# Inicializando o classificador de regressão logística com o parâmetro class_weight\n",
        "# 'balanced' atribui pesos inversamente proporcionais às frequências das classes\n",
        "modelo = LogisticRegression(class_weight='balanced')\n",
        "\n",
        "# Treinando o modelo\n",
        "modelo.fit(X_treino_vetorizado, y_treino)\n",
        "\n",
        "# Avaliando o modelo\n",
        "acuracia = modelo.score(X_teste_vetorizado, y_teste)\n",
        "print(\"Acurácia do modelo:\", acuracia)"
      ],
      "metadata": {
        "colab": {
          "base_uri": "https://localhost:8080/"
        },
        "id": "huzbtpYozhAb",
        "outputId": "1cc6ef2c-c60d-4f02-82d9-1434b6714fa6"
      },
      "execution_count": null,
      "outputs": [
        {
          "output_type": "stream",
          "name": "stdout",
          "text": [
            "Acurácia do modelo: 0.9331132899718474\n"
          ]
        },
        {
          "output_type": "stream",
          "name": "stderr",
          "text": [
            "/usr/local/lib/python3.10/dist-packages/sklearn/linear_model/_logistic.py:458: ConvergenceWarning: lbfgs failed to converge (status=1):\n",
            "STOP: TOTAL NO. of ITERATIONS REACHED LIMIT.\n",
            "\n",
            "Increase the number of iterations (max_iter) or scale the data as shown in:\n",
            "    https://scikit-learn.org/stable/modules/preprocessing.html\n",
            "Please also refer to the documentation for alternative solver options:\n",
            "    https://scikit-learn.org/stable/modules/linear_model.html#logistic-regression\n",
            "  n_iter_i = _check_optimize_result(\n"
          ]
        }
      ]
    },
    {
      "cell_type": "code",
      "source": [
        "from sklearn.model_selection import train_test_split, GridSearchCV\n",
        "from sklearn.feature_extraction.text import TfidfVectorizer, CountVectorizer, HashingVectorizer\n",
        "from sklearn.pipeline import Pipeline\n",
        "from sklearn.linear_model import LogisticRegression\n",
        "from sklearn.metrics import classification_report\n",
        "from sklearn.preprocessing import LabelEncoder\n",
        "import pickle\n",
        "\n",
        "# Definindo colunas de texto e rótulos\n",
        "text_column = 'text'\n",
        "label_column = 'category'\n",
        "\n",
        "# Separando dados de treino e teste\n",
        "X_treino, X_teste, y_treino, y_teste = train_test_split(\n",
        "  df[text_column], df[label_column], test_size=0.2, random_state=42\n",
        ")\n",
        "\n",
        "# Codificando rótulos categóricos\n",
        "label_encoder = LabelEncoder()\n",
        "y_treino = label_encoder.fit_transform(y_treino)\n",
        "y_teste = label_encoder.transform(y_teste)\n",
        "\n",
        "# Definindo o modelo de Regressão Logística com balanceamento de classes\n",
        "modelo = LogisticRegression(class_weight='balanced')\n",
        "\n",
        "# Grades de hiperparâmetros\n",
        "grades_parametros = {\n",
        "  'C': [0.01, 0.1, 1],\n",
        "  'max_iter': [1000, 2000, 5000],\n",
        "}\n",
        "\n",
        "# Criando pipelines para diferentes representações de texto\n",
        "pipelines = []\n",
        "\n",
        "# 1. TfidfVectorizer com normalização L2\n",
        "pipeline_tfidf_l2 = Pipeline([\n",
        "  ('tfidf', TfidfVectorizer(max_features=10000, norm=\"l2\")),\n",
        "  ('clf', GridSearchCV(modelo, grades_parametros, cv=5, scoring='accuracy')),\n",
        "])\n",
        "pipelines.append(('TfidfVectorizer L2', pipeline_tfidf_l2))\n",
        "\n",
        "# Treinando e avaliando modelos\n",
        "for nome_modelo, pipeline in pipelines:\n",
        "  print(f\"** Treinando e avaliando {nome_modelo} com GridSearchCV...\")\n",
        "\n",
        "# Treinando o pipeline\n",
        "  pipeline.fit(X_treino, y_treino)\n",
        "\n",
        "# Salvando o modelo treinado e o vectorizer\n",
        "  with open(f'{nome_modelo}_model.pkl', 'wb') as model_file:\n",
        "   pickle.dump(pipeline, model_file)\n",
        "\n",
        "  with open(f'{nome_modelo}_vectorizer.pkl', 'wb') as vectorizer_file:\n",
        "   pickle.dump(pipeline.named_steps['tfidf'], vectorizer_file)  # Use 'tfidf' here\n",
        "\n",
        "# Previsão e avaliação no conjunto de teste\n",
        "  y_pred = pipeline.predict(X_teste)\n",
        "  print(f\"Classification Report para {nome_modelo}:\")\n",
        "  print(classification_report(y_teste, y_pred, target_names=label_encoder.classes_))\n",
        "\n",
        "# Salvando o codificador de rótulos\n",
        "with open('label_encoder.pkl', 'wb') as encoder_file:\n",
        "  pickle.dump(label_encoder, encoder_file)"
      ],
      "metadata": {
        "colab": {
          "base_uri": "https://localhost:8080/"
        },
        "id": "D31V0ghE0f53",
        "outputId": "b1dd12a5-e023-416a-e787-20a83bbe69a1"
      },
      "execution_count": null,
      "outputs": [
        {
          "output_type": "stream",
          "name": "stdout",
          "text": [
            "** Treinando e avaliando TfidfVectorizer L2 com GridSearchCV...\n",
            "Classification Report para TfidfVectorizer L2:\n",
            "              precision    recall  f1-score   support\n",
            "\n",
            "     ciencia       0.76      0.94      0.84       127\n",
            "      comida       0.81      0.89      0.85        92\n",
            "   cotidiano       0.91      0.93      0.92      1638\n",
            "    educacao       0.81      0.94      0.87       236\n",
            "     esporte       0.99      0.97      0.98      1968\n",
            "     mercado       0.94      0.91      0.93      2101\n",
            "       mundo       0.95      0.95      0.95      1728\n",
            "       poder       0.94      0.92      0.93      2222\n",
            "     turismo       0.74      0.90      0.81       189\n",
            "\n",
            "    accuracy                           0.93     10301\n",
            "   macro avg       0.87      0.93      0.90     10301\n",
            "weighted avg       0.94      0.93      0.93     10301\n",
            "\n"
          ]
        }
      ]
    }
  ],
  "metadata": {
    "colab": {
      "provenance": []
    },
    "kernelspec": {
      "display_name": "Python 3",
      "name": "python3"
    },
    "language_info": {
      "name": "python"
    }
  },
  "nbformat": 4,
  "nbformat_minor": 0
}